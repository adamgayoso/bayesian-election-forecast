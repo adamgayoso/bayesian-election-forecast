{
 "cells": [
  {
   "cell_type": "markdown",
   "metadata": {},
   "source": [
    "# Bayesian Dynamic Linear Model for Election Forecasting\n",
    "\n",
    "## Adam Gayoso and Srikar Varadaraj"
   ]
  },
  {
   "cell_type": "markdown",
   "metadata": {},
   "source": [
    "## Introduction\n",
    "\n",
    "The electoral victory of Donald Trump in November 2016 was widely viewed as an upset victory over Hillary Clinton. Various academic and journalistic sources ran forecasting models for the election, with many giving Clinton over a 90% chance of victory. Here we revisit the election and use a Bayesian dynamic linear model adapated from Linzer and Kremp to develop our own forecast of the election. By incorporating the uncertainty of undecided voters in the polls, we believe that Hillary Clinton had approximately a 70% chance of victory on election night. We will intersperse our model with its corresponding code. "
   ]
  },
  {
   "cell_type": "code",
   "execution_count": 41,
   "metadata": {},
   "outputs": [
    {
     "name": "stdout",
     "output_type": "stream",
     "text": [
      "The autoreload extension is already loaded. To reload it, use:\n",
      "  %reload_ext autoreload\n"
     ]
    }
   ],
   "source": [
    "import pandas as pd\n",
    "import numpy as np\n",
    "import edward as ed\n",
    "import tensorflow as tf\n",
    "from edward.models import Normal, Binomial, MultivariateNormalFullCovariance\n",
    "from scipy.special import logit\n",
    "import datetime as dt\n",
    "import matplotlib.pyplot as plt\n",
    "plt.style.use('ggplot')\n",
    "import collections\n",
    "\n",
    "import sys\n",
    "sys.path.insert(0, '../src')\n",
    "from helper import *\n",
    "from plots import *\n",
    "\n",
    "ELECTION_DATE = dt.date(2016, 11, 8)\n",
    "BURN_IN = 9000\n",
    "pd.options.mode.chained_assignment = None\n",
    "\n",
    "%load_ext autoreload\n",
    "%autoreload 2"
   ]
  },
  {
   "cell_type": "markdown",
   "metadata": {},
   "source": [
    "## 2016 Results\n",
    "\n",
    "In 2016, we witnessed the second time since 2000 that the winning candidate lost the popular vote. The polling data from May 1, 2016 to election day on November 8, 2016 suggested that Hillary Clinton had an electoral college \"firewall\". In essence, this means that basic polling averages and advanced forecasting models showed that Clinton had an advantage in more than enough states to secure the 270 electoral votes necessary to win the election."
   ]
  },
  {
   "cell_type": "markdown",
   "metadata": {},
   "source": [
    "<img src=\"images/firewall.png\" alt=\"Drawing\" style=\"width: 800px;\"/>\n",
    "\n",
    "[image source](https://projects.fivethirtyeight.com/2016-election-forecast/#stateorder)\n",
    "\n",
    "<img src=\"images/undecided4.png\" alt=\"Drawing\" style=\"width: 800px;\"/>\n",
    "\n",
    "[image source](https://www.nytimes.com/interactive/2016/11/13/upshot/putting-the-polling-miss-of-2016-in-perspective.html?_r=0)"
   ]
  },
  {
   "cell_type": "markdown",
   "metadata": {},
   "source": [
    "Below we see the actual results from the election. Clinton's firewall eroded with Trump securing Pennsylvania, Wisconsin, and Michgican, all states that Clinton was projected to win with high probability. "
   ]
  },
  {
   "cell_type": "markdown",
   "metadata": {},
   "source": [
    "<img src=\"images/2016_results.png\" alt=\"Drawing\" style=\"width: 800px;\"/>\n",
    "\n",
    "[image source](http://www.cnn.com/election/results)"
   ]
  },
  {
   "cell_type": "markdown",
   "metadata": {},
   "source": [
    "## Criticism of 2016 Models\n",
    "\n",
    "Below we see the final forecasted probability ([source](https://www.buzzfeed.com/jsvine/2016-election-forecast-grades?utm_term=.dsWz0w4MY#.rf1MnvgVW)) that Trump wins the electoral college from many of the most popular forecasters.\n",
    "\n",
    "|            Organization           \t| Pr(Trump wins) \t|\n",
    "|:---------------------------------:\t|---------------:\t|\n",
    "|          FiveThirtyEight          \t|           0.29 \t|\n",
    "|             PollSavvy             \t|           0.18 \t|\n",
    "|    The New York Times / Upshot    \t|           0.15 \t|\n",
    "|           Kremp / Slate           \t|           0.10 \t|\n",
    "|         Linzer / Daily Kos        \t|           0.08 \t|\n",
    "|        The Huffington Post        \t|           0.02 \t|\n",
    "| The Princeton Election Consortium \t|           0.01 \t|\n",
    "\n",
    "### Why were the probabilities so low?\n",
    "\n",
    "As stated earlier, the polls showed a Clinton advantage, but the results of the election showed a small national polling error coupled with a larger polling error in some states. The state polling errors were largely caused by the high number of undecided voters.\n",
    "\n",
    "<img src=\"images/undecided.png\" alt=\"Drawing\" style=\"width: 600px;\"/>\n",
    "\n",
    "[image source](http://fivethirtyeight.com/features/the-invisible-undecided-voter/)\n",
    "\n",
    "So not only were there a high number of undecided voters, many of the voters who decided in the last week went for Trump, which indicates a systemic correlated polling error.\n",
    "\n",
    "<img src=\"images/undecided2.png\" alt=\"Drawing\" style=\"width: 600px;\"/>\n",
    "\n",
    "[image source](http://fivethirtyeight.com/features/why-fivethirtyeight-gave-trump-a-better-chance-than-almost-anyone-else/)\n",
    "\n",
    "From the list above, only FiveThirtyEight placed an emphasis on accounting for undecided voters."
   ]
  },
  {
   "cell_type": "markdown",
   "metadata": {},
   "source": [
    "## Bayesian Dynamic Linear Model for Two-Party Voter Share"
   ]
  },
  {
   "cell_type": "markdown",
   "metadata": {},
   "source": [
    "## Data\n",
    "\n",
    "The data consists of polls from May 1, 2016 to November 6, 2016. The polls come from the Huffington Post's Pollster database and consist of national polls and state polls. A pollster is a firm that gives a poll. We remove any polls that have overlapping dates and are from the same pollster in the same state. Since polls are taken over several days, we calculate the poll date as the midpoint date in the poll's date range. While more than two candidates run for president, we only consider Hillary Clinton and Donald Trump, as well as undecided voters in each poll."
   ]
  },
  {
   "cell_type": "code",
   "execution_count": 2,
   "metadata": {},
   "outputs": [
    {
     "data": {
      "text/html": [
       "<div>\n",
       "<style>\n",
       "    .dataframe thead tr:only-child th {\n",
       "        text-align: right;\n",
       "    }\n",
       "\n",
       "    .dataframe thead th {\n",
       "        text-align: left;\n",
       "    }\n",
       "\n",
       "    .dataframe tbody tr th {\n",
       "        vertical-align: top;\n",
       "    }\n",
       "</style>\n",
       "<table border=\"1\" class=\"dataframe\">\n",
       "  <thead>\n",
       "    <tr style=\"text-align: right;\">\n",
       "      <th></th>\n",
       "      <th>state</th>\n",
       "      <th>begin</th>\n",
       "      <th>end</th>\n",
       "      <th>pollster</th>\n",
       "      <th>p_clinton</th>\n",
       "    </tr>\n",
       "  </thead>\n",
       "  <tbody>\n",
       "    <tr>\n",
       "      <th>0</th>\n",
       "      <td>district of columbia</td>\n",
       "      <td>2016-11-01</td>\n",
       "      <td>2016-11-07</td>\n",
       "      <td>SurveyMonkey</td>\n",
       "      <td>0.923913</td>\n",
       "    </tr>\n",
       "    <tr>\n",
       "      <th>1</th>\n",
       "      <td>district of columbia</td>\n",
       "      <td>2016-10-30</td>\n",
       "      <td>2016-11-06</td>\n",
       "      <td>UPI/CVOTER</td>\n",
       "      <td>0.938776</td>\n",
       "    </tr>\n",
       "    <tr>\n",
       "      <th>2</th>\n",
       "      <td>district of columbia</td>\n",
       "      <td>2016-10-25</td>\n",
       "      <td>2016-10-31</td>\n",
       "      <td>SurveyMonkey</td>\n",
       "      <td>0.956522</td>\n",
       "    </tr>\n",
       "    <tr>\n",
       "      <th>3</th>\n",
       "      <td>district of columbia</td>\n",
       "      <td>2016-10-23</td>\n",
       "      <td>2016-10-29</td>\n",
       "      <td>UPI/CVOTER</td>\n",
       "      <td>0.861702</td>\n",
       "    </tr>\n",
       "    <tr>\n",
       "      <th>4</th>\n",
       "      <td>district of columbia</td>\n",
       "      <td>2016-10-18</td>\n",
       "      <td>2016-10-24</td>\n",
       "      <td>SurveyMonkey</td>\n",
       "      <td>0.946237</td>\n",
       "    </tr>\n",
       "  </tbody>\n",
       "</table>\n",
       "</div>"
      ],
      "text/plain": [
       "                  state      begin        end      pollster  p_clinton\n",
       "0  district of columbia 2016-11-01 2016-11-07  SurveyMonkey   0.923913\n",
       "1  district of columbia 2016-10-30 2016-11-06    UPI/CVOTER   0.938776\n",
       "2  district of columbia 2016-10-25 2016-10-31  SurveyMonkey   0.956522\n",
       "3  district of columbia 2016-10-23 2016-10-29    UPI/CVOTER   0.861702\n",
       "4  district of columbia 2016-10-18 2016-10-24  SurveyMonkey   0.946237"
      ]
     },
     "execution_count": 2,
     "metadata": {},
     "output_type": "execute_result"
    }
   ],
   "source": [
    "polls = pd.read_csv('../data/all_polls_2016.csv', parse_dates=['begin', 'end', 'poll_date'])\n",
    "up_to_t = dt.date(2016, 11, 8)\n",
    "state_polls, national_polls = prepare_polls(polls, up_to_t)\n",
    "\n",
    "# Get prior information from 2012 election\n",
    "prior_diff_score, state_weights, ev_states = process_2012_polls()\n",
    "states = state_polls.state.unique()\n",
    "prior_diff_score = prior_diff_score[states]\n",
    "state_weights = state_weights[states].as_matrix()\n",
    "state_weights_np = state_weights\n",
    "state_weights = tf.convert_to_tensor(state_weights, dtype=tf.float32)\n",
    "ev_states = ev_states[states].as_matrix()\n",
    "\n",
    "n_states = len(states)\n",
    "n_pollsters = len(polls.pollster.unique())\n",
    "# Week of last poll\n",
    "w_last = state_polls.week_index.max()\n",
    "# Days until election\n",
    "days_until_E = (ELECTION_DATE - state_polls.poll_date.max().date()).days\n",
    "# Election day as index\n",
    "E_day = days_until_E + state_polls.date_index.max()\n",
    "E_week = (ELECTION_DATE + dt.timedelta(days=-1)).isocalendar()[1] - polls.week.min()\n",
    "\n",
    "state_polls[['state', 'begin', 'end', 'pollster', 'p_clinton']].head()"
   ]
  },
  {
   "cell_type": "markdown",
   "metadata": {},
   "source": [
    "## Model\n",
    "\n",
    "Our model is an adaptation of the models of Kremp and Linzer. \n",
    "\n",
    "Polls are binomially distributed with sample size $N_i$.\n",
    "\n",
    "$$ N^{Clinton}_i \\sim \\textrm{Binomial}(N_i, \\pi^{Clinton}_i) $$\n",
    "\n",
    "The model can best be described as a multilevel binomial logistic regression. The log-odds of Clinton's vote share of the two-party vote can be decomposed for state polls and national polls as:\n",
    "\n",
    "#### State Poll:\n",
    "\n",
    "$$\\textrm{logit} (\\pi^{Clinton}_i) = \\mu_a[t_i] + \\mu_b^{weekly}[w_t, s] + \\mu_c[p_i]$$\n",
    "\n",
    "There is signal, which are the terms $ \\mu_a$ and  $\\mu_b$, representing a national component shared across all states and a state component, respectively. The other term is noise: pollster house effect ($\\mu_c$). In order to reduce the number of parameters in the model, $\\mu_b$ is treated as a weekly parameter.\n",
    "\n",
    "$w_t$ is the week of day $t$.\n",
    "\n",
    "#### National Poll:\n",
    "\n",
    "$$\\textrm{logit} (\\pi^{Clinton}_i) = \\textrm{logit}\\left( \\sum_{s \\in {1 \\dots S}} \\omega_s \\cdot \\textrm{logit}^{-1} (\\mu_a[t_i] + \\mu_b^{weekly}[w_{t_i}, s]) \\right) + \\mu_c[p_i]$$\n",
    "\n",
    "This is the weighted average of the state polls, weighted by 2012 turnout adjusted for population growth from 2011 and 2015. We have a new term $\\alpha$, which compensates for the difference in the weighted average and the actual poll. \n",
    "\n",
    "\n",
    "We will start backwards from election day, as this is the most intuitive way to understand the model. The model is made up of two components. The forward component covers dates from the last day of polling to election day. The backward component covers days from May 1, 2016 until the last day of polling. The last day of polling could be any time during the election process, so the model could be run every week during the election.\n",
    "\n",
    "#### Latent variables\n",
    "\n",
    "|      Effect     |                  Description |                             Structure |\n",
    "|:---------------:|-----------------------------:|--------------------------------------:|\n",
    "| $\\mu_b$ | Latent state voter intention | One variable for each (week, state) |\n",
    "|    $\\mu_a$    |       Latent national swings |      One variable for each day |\n",
    "|   $\\mu_c$   |         Latent house effects |      One variable for every pollster |"
   ]
  },
  {
   "cell_type": "markdown",
   "metadata": {},
   "source": [
    "### $\\mu_b$ priors\n",
    "\n",
    "State component\n",
    "\n",
    "#### Election day\n",
    "\n",
    "This prior depends on the [Time-for-Change model](https://pollyvote.com/en/components/econometric-models/time-for-change-model/), which is a baseline prediction of the election based on GDP figures, the previous president's party and length of term. This has nothing to do with the two candidates. $48.6\\%$ is the prior from this model. $\\delta_{1 \\dots S}$ represents the difference in Obama's state averages and national average in 2012.\n",
    "\n",
    "Let time $T$ be election day.\n",
    "\n",
    "$$\\mu_b[T, 1 \\dots S] \\sim \\textrm{Multivariate Normal}(\\textrm{logit} (0.486 + \\delta_{1 \\dots S}), \\Sigma)$$\n",
    "\n",
    "$$\\Sigma = \\textrm{cov-matrix}(\\textrm{var}=0.05, \\rho=0.5)$$\n",
    "\n",
    "$$\\delta_{1 \\dots S} = \\pi_s^{Obama} - \\pi_*^{Obama}$$\n",
    "\n",
    "\n",
    "The value for $\\Sigma$ is imprecise on purpose. The correlation of states is important such that if Clinton has a bad election day, it is shared by many states. "
   ]
  },
  {
   "cell_type": "code",
   "execution_count": 3,
   "metadata": {
    "collapsed": true
   },
   "outputs": [],
   "source": [
    "mu_b_prior_cov = covariance_matrix(0.05, 0.5, n_states)\n",
    "mu_b_prior_cov = tf.convert_to_tensor(mu_b_prior_cov, dtype=tf.float32)\n",
    "mu_b_prior_mean = logit(0.486 + prior_diff_score).as_matrix()\n",
    "mu_b_prior_mean = tf.convert_to_tensor(mu_b_prior_mean, dtype=tf.float32)\n",
    "mu_b_prior = MultivariateNormalFullCovariance(loc=mu_b_prior_mean, covariance_matrix=mu_b_prior_cov)"
   ]
  },
  {
   "cell_type": "markdown",
   "metadata": {},
   "source": [
    "#### Forward Component $(t \\geq t_{last})$\n",
    "\n",
    "$$\\mu_b^{weekly}[w_t-1, 1 \\dots S] \\sim \\textrm{Multivariate Normal}(\\mu_b^{weekly}[w_t, 1 \\dots S], \\Sigma_b^{walk})$$\n",
    "\n",
    "$$\\Sigma_b^{walk} = \\textrm{cov-matrix}(\\textrm{var}=0.015^2 \\cdot 7, \\rho=0.75)$$"
   ]
  },
  {
   "cell_type": "code",
   "execution_count": 4,
   "metadata": {
    "collapsed": true
   },
   "outputs": [],
   "source": [
    "mu_bs = []\n",
    "mu_bs.append(mu_b_prior)\n",
    "sigma_walk_b_forecast = covariance_matrix(7 * 0.015 ** 2, 0.75, n_states)\n",
    "sigma_walk_b_forecast = tf.convert_to_tensor(\n",
    "    sigma_walk_b_forecast, dtype=tf.float32)\n",
    "for w in range(E_week - state_polls.week_index.max()):\n",
    "    mu_bs.append(MultivariateNormalFullCovariance(loc=mu_bs[-1], covariance_matrix=sigma_walk_b_forecast))"
   ]
  },
  {
   "cell_type": "markdown",
   "metadata": {},
   "source": [
    "#### Backward Component $(t < t_{last})$\n",
    "\n",
    "$$\\mu_b^{weekly}[w_t-1, s] \\sim \\textrm{Normal}(\\mu_b^{weekly}[w_t, s], \\sigma_b \\cdot \\sqrt{7})$$\n",
    "\n",
    "$$\\sigma_b = 0.007$$"
   ]
  },
  {
   "cell_type": "code",
   "execution_count": 5,
   "metadata": {
    "collapsed": true
   },
   "outputs": [],
   "source": [
    "sigma_b = 0.007 * np.sqrt(7) * tf.ones(n_states)\n",
    "for w in range(w_last):\n",
    "    mu_bs.append(Normal(loc=mu_bs[-1], scale=sigma_b))"
   ]
  },
  {
   "cell_type": "markdown",
   "metadata": {},
   "source": [
    "### $\\mu_a$ Priors\n",
    "\n",
    "National Component\n",
    "\n",
    "$$\\mu_a[t-1] \\sim \\textrm{Normal}(\\mu_a[t], \\sigma_a)$$\n",
    "\n",
    "$$\\sigma_a = 0.025$$\n",
    "\n",
    "$$\\mu_a[T] = 0 $$"
   ]
  },
  {
   "cell_type": "code",
   "execution_count": 6,
   "metadata": {
    "collapsed": true
   },
   "outputs": [],
   "source": [
    "sigma_a = 0.025\n",
    "mu_a_buffer = tf.zeros(1, tf.float32)\n",
    "mu_as = []\n",
    "for t in range(E_day):\n",
    "    if t == 0:\n",
    "        mu_as.append(Normal(loc=0.0, scale=sigma_a))\n",
    "    else:\n",
    "        mu_as.append(Normal(loc=mu_as[-1], scale=sigma_a))"
   ]
  },
  {
   "cell_type": "markdown",
   "metadata": {},
   "source": [
    "### $\\mu_c$ Priors\n",
    "House Effect\n",
    "\n",
    "$$\\mu_c[p] \\sim \\textrm{Normal}(0 , \\sigma_c)$$\n",
    "\n",
    "$$\\sigma_c = 0.05$$\n",
    "\n",
    "The prior is $95\\%$ confidence that the house effects are around $2.5\\%$ if Clinton is polling around $50\\%$."
   ]
  },
  {
   "cell_type": "code",
   "execution_count": 7,
   "metadata": {
    "collapsed": true
   },
   "outputs": [],
   "source": [
    "sigma_c = 0.05 * tf.ones(n_pollsters)\n",
    "mu_c = Normal(loc=tf.zeros(n_pollsters), scale=sigma_c)"
   ]
  },
  {
   "cell_type": "markdown",
   "metadata": {},
   "source": [
    "### Likelihood\n",
    "\n",
    "$$ N^{Clinton}_i \\sim \\textrm{Binomial}(N_i, \\pi^{Clinton}_i) $$"
   ]
  },
  {
   "cell_type": "code",
   "execution_count": 8,
   "metadata": {},
   "outputs": [],
   "source": [
    "final_logits = assemble_polls(mu_bs, mu_as, mu_a_buffer, mu_c, national_polls, state_polls, \n",
    "                              state_weights, E_day, E_week)\n",
    "X = tf.placeholder(tf.float32, len(state_polls) + len(national_polls))\n",
    "y = Binomial(total_count=X, logits=final_logits, value=tf.zeros(\n",
    "    len(state_polls) + len(national_polls), dtype=tf.float32))"
   ]
  },
  {
   "cell_type": "markdown",
   "metadata": {},
   "source": [
    "## Inference\n",
    "\n",
    "Hamiltonian Monte Carlo"
   ]
  },
  {
   "cell_type": "code",
   "execution_count": 9,
   "metadata": {},
   "outputs": [
    {
     "name": "stdout",
     "output_type": "stream",
     "text": [
      "10000/10000 [100%] ██████████████████████████████ Elapsed: 1048s | Acceptance Rate: 0.785\n"
     ]
    }
   ],
   "source": [
    "others = [mu_c]\n",
    "latent_variables = mu_bs + mu_as + others\n",
    "n_respondents = np.append(state_polls.n_respondents.as_matrix(), national_polls.n_respondents.as_matrix())\n",
    "n_clinton = np.append(state_polls.n_clinton.as_matrix(),\n",
    "                      national_polls.n_clinton.as_matrix())\n",
    "inference = ed.HMC(latent_variables, data={X: n_respondents, y: n_clinton})\n",
    "inference.run(step_size=0.0032, n_steps=2)"
   ]
  },
  {
   "cell_type": "markdown",
   "metadata": {},
   "source": [
    "Extract samples from HMC"
   ]
  },
  {
   "cell_type": "code",
   "execution_count": 10,
   "metadata": {
    "collapsed": true
   },
   "outputs": [],
   "source": [
    "qmu_as, qmu_bs, qmu_c = extract_results(mu_as, mu_bs, mu_c, inference)"
   ]
  },
  {
   "cell_type": "markdown",
   "metadata": {},
   "source": [
    "## Bayesian Linear Regression for Undecided Voters"
   ]
  },
  {
   "cell_type": "markdown",
   "metadata": {},
   "source": [
    "## Data"
   ]
  },
  {
   "cell_type": "code",
   "execution_count": 78,
   "metadata": {
    "collapsed": true
   },
   "outputs": [],
   "source": [
    "undecided_table = state_polls[['p_undecided', 'date_index', 'state_index']].as_matrix()\n",
    "undecided_table = undecided_table[np.where(undecided_table[:, 0] != 0)[0]]\n",
    "undecided = undecided_table[:, 0]\n",
    "date_index = undecided_table[:, 1].astype(np.int32)\n",
    "state_index = undecided_table[:, 2].astype(np.int32)"
   ]
  },
  {
   "cell_type": "markdown",
   "metadata": {},
   "source": [
    "## Model\n",
    "\n",
    "$$w_s = \\textrm{Normal}(-0.05,  0.02)$$\n",
    "\n",
    "$$b_s = \\textrm{Normal}(8,  5)$$\n",
    "\n",
    "$$u_s = \\textrm{Normal}(w_s^T t + b,  4)$$\n",
    "\n",
    "$$u_s \\in \\{0, ..., 100\\}$$"
   ]
  },
  {
   "cell_type": "code",
   "execution_count": 90,
   "metadata": {
    "collapsed": true
   },
   "outputs": [],
   "source": [
    "w = Normal(loc=-0.05, scale=0.02 * tf.ones(n_states))\n",
    "b = Normal(loc=8 + tf.zeros(n_states), scale=5 * tf.ones(n_states))\n",
    "gat_w = tf.gather(w, state_index)\n",
    "gat_b = tf.gather(b, state_index)\n",
    "und = Normal(loc=gat_w * date_index + gat_b, scale=4.0)"
   ]
  },
  {
   "cell_type": "markdown",
   "metadata": {},
   "source": [
    "## Inference\n",
    "\n",
    "KLqp"
   ]
  },
  {
   "cell_type": "code",
   "execution_count": 91,
   "metadata": {},
   "outputs": [
    {
     "name": "stdout",
     "output_type": "stream",
     "text": [
      "10000/10000 [100%] ██████████████████████████████ Elapsed: 35s | Loss: 3031.829\n"
     ]
    }
   ],
   "source": [
    "qw = Normal(loc=tf.Variable(tf.random_normal([n_states])), scale=tf.nn.softplus(tf.Variable(tf.random_normal([n_states]))))\n",
    "qb = Normal(loc=tf.Variable(tf.random_normal([n_states])), scale=tf.nn.softplus(tf.Variable(tf.random_normal([n_states]))))\n",
    "inference = ed.KLqp({w: qw, b: qb}, data={und: undecided})\n",
    "inference.run(n_samples=5, n_iter=10000)"
   ]
  },
  {
   "cell_type": "markdown",
   "metadata": {},
   "source": [
    "Extract results"
   ]
  },
  {
   "cell_type": "code",
   "execution_count": 92,
   "metadata": {},
   "outputs": [],
   "source": [
    "mean_w = qw.mean().eval()\n",
    "mean_b = qb.mean().eval()"
   ]
  },
  {
   "cell_type": "markdown",
   "metadata": {},
   "source": [
    "Create plots in ../plots/undecided_plots"
   ]
  },
  {
   "cell_type": "code",
   "execution_count": 93,
   "metadata": {
    "collapsed": true
   },
   "outputs": [],
   "source": [
    "i = 0\n",
    "for s in states:\n",
    "    generate_undecided_plot(undecided_table, i, s, mean_w, mean_b, E_day, save=True)\n",
    "    i += 1"
   ]
  },
  {
   "cell_type": "markdown",
   "metadata": {},
   "source": [
    "<img src=\"../plots/undecided_plots/michigan.png\" alt=\"Drawing\" style=\"width: 800px;\"/>"
   ]
  },
  {
   "cell_type": "markdown",
   "metadata": {},
   "source": [
    "## Predictions for Clinton Share of Two-Party Vote"
   ]
  },
  {
   "cell_type": "markdown",
   "metadata": {},
   "source": [
    "For each posterior sample:\n",
    "\n",
    "$$e = \\textrm{Multivariate Normal}(0, \\Sigma)$$\n",
    "\n",
    "$$\\Sigma = \\textrm{cov-matrix}(\\textrm{var}=1, \\rho=0.75)$$\n",
    "\n",
    "$$e = \\textrm{logit}^{-1}(e)$$\n",
    "\n",
    "    For state outcomes:\n",
    "\n",
    "$$\\pi^{clinton}[t,s] = \\textrm{logit}^{-1} (\\mu_a[t] + \\mu_b[w_t, s]) \\cdot (1 - u_s[t]) + e[s] \\cdot u_s[t]$$\n",
    "\n",
    "    For national outcome:\n",
    "\n",
    "$$\\pi^{clinton}[t, US] = \\sum_{s \\in S} \\omega_s \\cdot (\\textrm{logit}^{-1} (\\pi^{clinton}[t,s]))$$\n"
   ]
  },
  {
   "cell_type": "code",
   "execution_count": 99,
   "metadata": {
    "collapsed": true
   },
   "outputs": [],
   "source": [
    "predicted_scores = predict_scores(qmu_as, qmu_bs, E_day, mean_w, mean_b, var=1.5)\n",
    "general_score = np.sum(state_weights_np * predicted_scores, axis=2)"
   ]
  },
  {
   "cell_type": "code",
   "execution_count": 100,
   "metadata": {
    "collapsed": true
   },
   "outputs": [],
   "source": [
    "i = 0\n",
    "for s in states:\n",
    "    state_s_polls = state_polls[state_polls.state == s]\n",
    "    state_scores = predicted_scores[:, :, i]\n",
    "    prior = prior_diff_score[s] + 0.486\n",
    "    generate_time_plot(state_scores, state_s_polls, BURN_IN, s, prior, save=True)\n",
    "    i += 1\n",
    "    \n",
    "generate_time_plot(general_score, national_polls, BURN_IN, \"general\", 0.486, save=True)"
   ]
  },
  {
   "cell_type": "markdown",
   "metadata": {},
   "source": [
    "<img src=\"../plots/time_plots/general.png\" alt=\"Drawing\" style=\"width: 800px;\"/>"
   ]
  },
  {
   "cell_type": "markdown",
   "metadata": {},
   "source": [
    "<img src=\"../plots/time_plots/michigan.png\" alt=\"Drawing\" style=\"width: 800px;\"/>"
   ]
  },
  {
   "cell_type": "code",
   "execution_count": 101,
   "metadata": {},
   "outputs": [
    {
     "data": {
      "text/plain": [
       "<matplotlib.figure.Figure at 0x17d68e240>"
      ]
     },
     "metadata": {},
     "output_type": "display_data"
    },
    {
     "data": {
      "image/png": "[encoded data removed]",
      "text/plain": [
       "<matplotlib.figure.Figure at 0x175d8fcf8>"
      ]
     },
     "metadata": {},
     "output_type": "display_data"
    }
   ],
   "source": [
    "generate_state_probs(states, e_day_results)"
   ]
  },
  {
   "cell_type": "markdown",
   "metadata": {},
   "source": [
    "### Simulate Election\n",
    "\n",
    "Here we sample from predicted scores $10^4$ times and calculate:\n",
    "\n",
    "$$\\textrm{EV}_{Clinton} = \\sum_{s \\in S} \\textrm{electoral_votes}[s] \\cdot \\mathbb{1}[\\textrm{predicted_score}[T, s] > 0.5]$$\n",
    "\n",
    "If $\\textrm{EV}_{Clinton} > 270$ she wins that simulation of the election."
   ]
  },
  {
   "cell_type": "code",
   "execution_count": 102,
   "metadata": {
    "scrolled": false
   },
   "outputs": [
    {
     "data": {
      "image/png": "[encoded data removed]",
      "text/plain": [
       "<matplotlib.figure.Figure at 0x179a48a58>"
      ]
     },
     "metadata": {},
     "output_type": "display_data"
    },
    {
     "name": "stdout",
     "output_type": "stream",
     "text": [
      "The probability Clinton loses the Electoral College but wins the popular vote is: 0.202\n"
     ]
    }
   ],
   "source": [
    "clean_scores = predicted_scores[:, BURN_IN:, :]\n",
    "e_day_results = clean_scores[-1, :, :]\n",
    "e_day_general = general_score[-1, BURN_IN:]\n",
    "\n",
    "clinton_loses_ec_but_wins = generate_simulation_hist(e_day_results, e_day_general, ev_states)\n",
    "print(\"The probability Clinton loses the Electoral College but wins the popular vote is:\", clinton_loses_ec_but_wins)"
   ]
  },
  {
   "cell_type": "markdown",
   "metadata": {},
   "source": [
    "538: The probability Clinton loses the Electoral College but wins the popular vote is: 0.105"
   ]
  },
  {
   "cell_type": "markdown",
   "metadata": {},
   "source": [
    "### Brier Score"
   ]
  },
  {
   "cell_type": "code",
   "execution_count": 103,
   "metadata": {},
   "outputs": [
    {
     "name": "stdout",
     "output_type": "stream",
     "text": [
      "Brier Score: 0.0765\n",
      "EC Weighted Brier Score: 0.0920\n",
      "Number Correct (Incl. DC): 45\n"
     ]
    }
   ],
   "source": [
    "brier_score = get_brier_score(e_day_results, states)\n",
    "weighted_brier_score = get_brier_score(e_day_results, states, weighted=True, ev_states=ev_states)\n",
    "num_correct = get_correct(e_day_results, states)\n",
    "print(\"Brier Score: {0:.4f}\".format(brier_score))\n",
    "print(\"EC Weighted Brier Score: {0:.4f}\".format(weighted_brier_score))\n",
    "print(\"Number Correct (Incl. DC): {0}\".format(num_correct))"
   ]
  },
  {
   "cell_type": "markdown",
   "metadata": {
    "collapsed": true
   },
   "source": [
    "<img src=\"images/brier_score.png\" alt=\"Drawing\" style=\"width: 600px;\"/>\n",
    "\n",
    "[image source](https://www.buzzfeed.com/jsvine/2016-election-forecast-grades?utm_term=.nqgbV0lxM#.rcr6KnwbD)"
   ]
  }
 ],
 "metadata": {
  "kernelspec": {
   "display_name": "Python 3",
   "language": "python",
   "name": "python3"
  },
  "language_info": {
   "codemirror_mode": {
    "name": "ipython",
    "version": 3
   },
   "file_extension": ".py",
   "mimetype": "text/x-python",
   "name": "python",
   "nbconvert_exporter": "python",
   "pygments_lexer": "ipython3",
   "version": "3.6.1"
  }
 },
 "nbformat": 4,
 "nbformat_minor": 2
}
